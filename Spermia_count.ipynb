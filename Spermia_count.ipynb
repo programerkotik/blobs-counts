{
  "nbformat": 4,
  "nbformat_minor": 0,
  "metadata": {
    "colab": {
      "name": "Spermia_count.ipynb",
      "provenance": []
    },
    "kernelspec": {
      "name": "python3",
      "display_name": "Python 3"
    },
    "language_info": {
      "name": "python"
    }
  },
  "cells": [
    {
      "cell_type": "code",
      "metadata": {
        "id": "NBqpHV8NYuLQ"
      },
      "source": [
        "from PIL import Image\n",
        "import numpy as np\n",
        "from skimage.feature import blob_log, blob_dog\n",
        "from tifffile import imread\n",
        "import PIL.ImageDraw as ImageDraw"
      ],
      "execution_count": 9,
      "outputs": []
    },
    {
      "cell_type": "code",
      "metadata": {
        "id": "sDBVw5mLZVyA"
      },
      "source": [
        "# load one channel image\n",
        "channel = imread('image.tiff')\n",
        "# count = im[0,:,:] # if loading whole image with multiple channel, count is first\n",
        "channel = channel/np.max(channel) * 255\n",
        "channel = channel.astype('uint8')"
      ],
      "execution_count": 10,
      "outputs": []
    },
    {
      "cell_type": "code",
      "metadata": {
        "colab": {
          "base_uri": "https://localhost:8080/"
        },
        "id": "eoAYJh0WY5Xi",
        "outputId": "41041e4d-5c76-463c-a1ea-fe42c4c95bdd"
      },
      "source": [
        "# set parameters\n",
        "channel_name = 'count'\n",
        "min_sigma = 1\n",
        "max_sigma = 4\n",
        "num_sigma = 10\n",
        "threshold = .008\n",
        "\n",
        "def count(channel, channel_name, min_sigma, max_sigma, num_sigma, threshold):\n",
        "  # blob detection\n",
        "  blobs_log_red = blob_log(channel, min_sigma, max_sigma, num_sigma, threshold)\n",
        "\n",
        "  im = channel * 3\n",
        "  im = Image.fromarray(channel)\n",
        "\n",
        "  blobs_log_red[:, 2] = blobs_log_red[:, 2] * np.sqrt(2)\n",
        "\n",
        "  #counting and visualization\n",
        "  count = 0\n",
        "  for blob in blobs_log_red:\n",
        "      y, x, r = blob\n",
        "      if r < 7:\n",
        "          count = count + 1\n",
        "\n",
        "  print(f'Dead count is {count}')\n",
        "\n",
        "  draw = ImageDraw.Draw(im)\n",
        "\n",
        "  for blob in blobs_log_red:\n",
        "      y, x, r = blob\n",
        "      if r < 7:\n",
        "          draw.point((x,y),fill=255)\n",
        "  \n",
        "  im.show()\n",
        "  im.save(f'live_{channel_name}_{count}.png') #result is saved to the root folder\n",
        "\n",
        "count(channel, channel_name, min_sigma, max_sigma, num_sigma, threshold)"
      ],
      "execution_count": 11,
      "outputs": [
        {
          "output_type": "stream",
          "text": [
            "Dead count is 1694\n"
          ],
          "name": "stdout"
        },
        {
          "output_type": "stream",
          "text": [
            "/usr/local/lib/python3.7/dist-packages/skimage/feature/blob.py:125: RuntimeWarning: invalid value encountered in double_scalars\n",
            "  r1 = blob1[-1] / blob2[-1]\n",
            "/usr/local/lib/python3.7/dist-packages/skimage/feature/blob.py:126: RuntimeWarning: divide by zero encountered in true_divide\n",
            "  pos1 = blob1[:ndim] / (max_sigma * root_ndim)\n",
            "/usr/local/lib/python3.7/dist-packages/skimage/feature/blob.py:127: RuntimeWarning: divide by zero encountered in true_divide\n",
            "  pos2 = blob2[:ndim] / (max_sigma * root_ndim)\n",
            "/usr/local/lib/python3.7/dist-packages/skimage/feature/blob.py:129: RuntimeWarning: invalid value encountered in subtract\n",
            "  d = np.sqrt(np.sum((pos2 - pos1)**2))\n"
          ],
          "name": "stderr"
        }
      ]
    },
    {
      "cell_type": "code",
      "metadata": {
        "id": "JiDMSu_0bUdn"
      },
      "source": [
        ""
      ],
      "execution_count": null,
      "outputs": []
    }
  ]
}